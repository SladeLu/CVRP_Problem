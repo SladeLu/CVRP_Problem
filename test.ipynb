{
 "cells": [
  {
   "cell_type": "code",
   "execution_count": 4,
   "metadata": {},
   "outputs": [
    {
     "name": "stdout",
     "output_type": "stream",
     "text": [
      "4769 306.9890362800043 True [99, 38, 92.92961727400288]\n"
     ]
    }
   ],
   "source": [
    "from test_env import TestEnv\n",
    "import random\n",
    "import numpy as np"
   ]
  },
  {
   "cell_type": "code",
   "execution_count": 5,
   "metadata": {},
   "outputs": [],
   "source": [
    "if __name__ == \"__main__\":\n",
    "    env = TestEnv()"
   ]
  },
  {
   "cell_type": "code",
   "execution_count": 9,
   "metadata": {},
   "outputs": [
    {
     "name": "stdout",
     "output_type": "stream",
     "text": [
      "7617 437.09626895764796 True [99, 45, 93.5759876579652]\n"
     ]
    }
   ],
   "source": [
    "    env.reset()\n",
    "    ob = np.empty((100, 7), dtype=np.float)\n",
    "    i = 0\n",
    "    total_reward = 0.0\n",
    "    while True:\n",
    "        i += 1\n",
    "        r = random.randint(0,99)\n",
    "        ob, reward, done, _ = env.step(r)\n",
    "        total_reward += reward\n",
    "        if done:\n",
    "            print(i,total_reward,done,_)\n",
    "            break;"
   ]
  }
 ],
 "metadata": {
  "kernelspec": {
   "display_name": "Python 3",
   "language": "python",
   "name": "python3"
  },
  "language_info": {
   "codemirror_mode": {
    "name": "ipython",
    "version": 3
   },
   "file_extension": ".py",
   "mimetype": "text/x-python",
   "name": "python",
   "nbconvert_exporter": "python",
   "pygments_lexer": "ipython3",
   "version": "3.6.6"
  }
 },
 "nbformat": 4,
 "nbformat_minor": 2
}
